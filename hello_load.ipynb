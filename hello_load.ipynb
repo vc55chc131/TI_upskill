{
 "cells": [
  {
   "cell_type": "code",
   "execution_count": null,
   "id": "e6b99860-057a-4955-af02-d9f5b51ec36f",
   "metadata": {},
   "outputs": [],
   "source": [
    "# Cell 1\n",
    "print(\"Hello, world!\")\n"
   ]
  },
  {
   "cell_type": "code",
   "execution_count": null,
   "id": "9f03e162-5f8f-4bc9-b7a1-efe6b4d82db2",
   "metadata": {},
   "outputs": [],
   "source": [
    "# Cell 2\n",
    "import pandas as pd\n",
    "df = pd.read_csv(\"sample.csv\")\n",
    "display(df.head())\n",
    "print(df.info())\n"
   ]
  }
 ],
 "metadata": {
  "kernelspec": {
   "display_name": "Python 3 (ipykernel)",
   "language": "python",
   "name": "python3"
  },
  "language_info": {
   "codemirror_mode": {
    "name": "ipython",
    "version": 3
   },
   "file_extension": ".py",
   "mimetype": "text/x-python",
   "name": "python",
   "nbconvert_exporter": "python",
   "pygments_lexer": "ipython3",
   "version": "3.12.7"
  }
 },
 "nbformat": 4,
 "nbformat_minor": 5
}
